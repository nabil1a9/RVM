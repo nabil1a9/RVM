{
 "cells": [
  {
   "cell_type": "code",
   "execution_count": 1,
   "id": "961c1fcb",
   "metadata": {},
   "outputs": [
    {
     "name": "stdout",
     "output_type": "stream",
     "text": [
      "C:\\Users\\Public\\yolov71\n"
     ]
    }
   ],
   "source": [
    "cd C:\\Users\\Public\\yolov71"
   ]
  },
  {
   "cell_type": "markdown",
   "id": "8c8866dd",
   "metadata": {},
   "source": [
    "### Fonction d'extraction de l'ouput du model \n"
   ]
  },
  {
   "cell_type": "code",
   "execution_count": 3,
   "id": "7d51eaa3",
   "metadata": {},
   "outputs": [],
   "source": [
    "def fun(w):\n",
    "    output_string=w[15]\n",
    "    index = output_string.find(',')\n",
    "    class_string = output_string[2:index]\n",
    "    return class_string\n",
    "\n"
   ]
  },
  {
   "cell_type": "markdown",
   "id": "786c33fb",
   "metadata": {},
   "source": [
    "### Fonction pour comparer le resultat de l'ocr avec les marques de bouteilles et choisir la marque la plus proche en terme grammatical de l'output\n",
    "\n"
   ]
  },
  {
   "cell_type": "code",
   "execution_count": 3,
   "id": "bc29bca2",
   "metadata": {},
   "outputs": [],
   "source": [
    "import Levenshtein\n",
    "\n",
    "words = ['FANTA','fanta', 'cocacola', 'COCACOLA', 'BOGA', 'apla', 'SCHWEPPES' ,'sabrine', 'schweppes', 'boga', 'APLA', 'SPRITE','orangina', 'ORANGINA', 'sprite','SABRINE','SAFIA','FOURAT','MELLITI', 'delice','Tijen','Marwa', 'Janet', 'Dima']\n",
    "\n",
    "def find_most_similar_words(word, words_list):\n",
    "    similar_words = []\n",
    "    distances = []\n",
    "    for w in words_list:\n",
    "        distance = Levenshtein.distance(word, w)\n",
    "        distances.append(distance)\n",
    "        if distance == min(distances):\n",
    "            similar_words.append(w)\n",
    "    sorted_words = sorted(zip(similar_words, distances), key=lambda x: x[1])\n",
    "    return [w for w, _ in sorted_words]\n"
   ]
  },
  {
   "cell_type": "code",
   "execution_count": 1,
   "id": "5a1a9654",
   "metadata": {},
   "outputs": [],
   "source": [
    "import os\n",
    "os.environ['KMP_DUPLICATE_LIB_OK']='True'\n"
   ]
  },
  {
   "cell_type": "markdown",
   "id": "2453033a",
   "metadata": {},
   "source": [
    "### Ce code travaille en boucle tant que une personne a fait un login , ce code detectera la bouteille , appliquera les models et enregistre les resultat dans un sheet"
   ]
  },
  {
   "cell_type": "code",
   "execution_count": 42,
   "id": "09f317aa",
   "metadata": {},
   "outputs": [],
   "source": [
    "import time\n",
    "import os\n",
    "import cv2\n",
    "from watchdog.observers import Observer\n",
    "from watchdog.events import FileSystemEventHandler\n",
    "import torch\n",
    "from matplotlib import pyplot as plt\n",
    "import numpy as np\n",
    "import pandas as pd\n",
    "import matplotlib.pyplot as plt\n",
    "import cv2\n",
    "import easyocr\n",
    "from pylab import rcParams\n",
    "from IPython.display import Image\n",
    "rcParams['figure.figsize'] = 8, 16\n",
    "import openpyxl\n",
    "\n",
    "class MyHandler(FileSystemEventHandler):\n",
    "    def __init__(self, model):\n",
    "        super().__init__()\n",
    "        self.model = model\n",
    "\n",
    "    def on_created(self, event):\n",
    "        if event.is_directory:\n",
    "            return\n",
    "        if event.src_path.endswith('.jpg'):\n",
    "            image = cv2.imread(event.src_path)\n",
    "            # Apply the machine learning model to the image\n",
    "            x=!python detect.py --source C:\\Users\\Public\\yolov71\\runs\\detect\\exp5\\test1.jpg --weights C:\\Users\\Public\\yolov71\\runs\\train\\exp12\\weights\\best.pt\n",
    "            y=!python detect.py --source C:\\Users\\Public\\yolov71\\runs\\detect\\exp5\\test1.jpg --weights C:\\Users\\Public\\yolov71\\runs\\train\\exp12\\weights\\defective.pt        \n",
    "            z=!python cap.py --source C:\\Users\\Public\\yolov71\\runs\\detect\\exp5\\test1.jpg --weights C:\\Users\\Public\\yolov71\\runs\\train\\exp12\\weights\\cap.pt    \n",
    "          \n",
    "            reader = easyocr.Reader([\"en\"])\n",
    "            output4 = reader.readtext('C:/Users/Public/yolov71/runs/detect/exp5/test.jpg')\n",
    "            text_output4 = \"\"\n",
    "            for result in output4:\n",
    "                text_output4 += result[1]\n",
    "\n",
    "            print(text_output4)\n",
    "           \n",
    "                                                     \n",
    "            # Load the Excel file\n",
    "            workbook = openpyxl.load_workbook('data.xlsx')\n",
    "\n",
    "            # Select a specific sheet in the workbook\n",
    "            sheet = workbook['Sheet1']\n",
    "\n",
    "            last_row = sheet.max_row\n",
    "\n",
    "            # Write data to the next row in the sheet\n",
    "            sheet.cell(row=last_row+1, column=1, value=x)\n",
    "            sheet.cell(row=last_row+1, column=2, value=y)\n",
    "            sheet.cell(row=last_row+1, column=3, value=z)\n",
    "            sheet.cell(row=last_row+1, column=4, value=text_output4)\n",
    "            \n",
    "\n",
    "            workbook.save('data.xlsx')\n",
    "\n",
    "            print(\"Data written to Excel file successfully.\")\n",
    "#Detection s'il y a une image inserée dans le dossier partagé , il va appliquer les modeles sur l'image\n",
    "#puis enregistrer les resultats dans un sheet\n",
    "if __name__ == \"__main__\":\n",
    "    # Load the machine learning model here\n",
    "    model = !python detect.py --source C:\\Users\\Public\\yolov71\\runs\\detect\\exp5\\test.jpg --weights C:\\Users\\Public\\yolov71\\runs\\train\\exp12\\weights\\best.pt\n",
    "    path = \"C:/Users/Public/yolov71/runs/detect/exp5/\"\n",
    "    event_handler = MyHandler(model)\n",
    "    observer = Observer()\n",
    "    observer.schedule(event_handler, path, recursive=True)\n",
    "    observer.start()\n",
    "    try:\n",
    "        while True:\n",
    "            time.sleep(1)\n",
    "    except KeyboardInterrupt:\n",
    "        observer.stop()\n",
    "    observer.join()"
   ]
  },
  {
   "cell_type": "code",
   "execution_count": null,
   "id": "e1ac37bf",
   "metadata": {},
   "outputs": [],
   "source": []
  }
 ],
 "metadata": {
  "kernelspec": {
   "display_name": "Python 3 (ipykernel)",
   "language": "python",
   "name": "python3"
  },
  "language_info": {
   "codemirror_mode": {
    "name": "ipython",
    "version": 3
   },
   "file_extension": ".py",
   "mimetype": "text/x-python",
   "name": "python",
   "nbconvert_exporter": "python",
   "pygments_lexer": "ipython3",
   "version": "3.9.7"
  }
 },
 "nbformat": 4,
 "nbformat_minor": 5
}
